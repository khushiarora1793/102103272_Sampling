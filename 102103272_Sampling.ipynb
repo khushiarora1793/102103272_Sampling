{
  "cells": [
    {
      "cell_type": "code",
      "execution_count": null,
      "metadata": {
        "colab": {
          "base_uri": "https://localhost:8080/"
        },
        "id": "MHcLIOkbwFm_",
        "outputId": "323df191-1295-4066-ea79-ac5423292a70"
      },
      "outputs": [
        {
          "name": "stdout",
          "output_type": "stream",
          "text": [
            "   Time        V1        V2        V3        V4        V5        V6        V7  \\\n",
            "0     0 -1.359807 -0.072781  2.536347  1.378155 -0.338321  0.462388  0.239599   \n",
            "1     0  1.191857  0.266151  0.166480  0.448154  0.060018 -0.082361 -0.078803   \n",
            "2     1 -1.358354 -1.340163  1.773209  0.379780 -0.503198  1.800499  0.791461   \n",
            "3     1 -0.966272 -0.185226  1.792993 -0.863291 -0.010309  1.247203  0.237609   \n",
            "4     2 -1.158233  0.877737  1.548718  0.403034 -0.407193  0.095921  0.592941   \n",
            "\n",
            "         V8        V9  ...       V21       V22       V23       V24       V25  \\\n",
            "0  0.098698  0.363787  ... -0.018307  0.277838 -0.110474  0.066928  0.128539   \n",
            "1  0.085102 -0.255425  ... -0.225775 -0.638672  0.101288 -0.339846  0.167170   \n",
            "2  0.247676 -1.514654  ...  0.247998  0.771679  0.909412 -0.689281 -0.327642   \n",
            "3  0.377436 -1.387024  ... -0.108300  0.005274 -0.190321 -1.175575  0.647376   \n",
            "4 -0.270533  0.817739  ... -0.009431  0.798278 -0.137458  0.141267 -0.206010   \n",
            "\n",
            "        V26       V27       V28  Amount  Class  \n",
            "0 -0.189115  0.133558 -0.021053  149.62      0  \n",
            "1  0.125895 -0.008983  0.014724    2.69      1  \n",
            "2 -0.139097 -0.055353 -0.059752  378.66      0  \n",
            "3 -0.221929  0.062723  0.061458  123.50      0  \n",
            "4  0.502292  0.219422  0.215153   69.99      0  \n",
            "\n",
            "[5 rows x 31 columns]\n"
          ]
        }
      ],
      "source": [
        "#102103272_KHUSHI ARORA_Sampling Assignment\n",
        "#I have loaded the dataset\n",
        "import pandas as pd\n",
        "file_path = '/content/102103043_Creditcard_data.csv'\n",
        "df = pd.read_csv(file_path)\n",
        "print(df.head())\n"
      ]
    },
    {
      "cell_type": "code",
      "execution_count": null,
      "metadata": {
        "colab": {
          "base_uri": "https://localhost:8080/"
        },
        "id": "WCL2o_An5SkE",
        "outputId": "a3c6d399-3194-46b0-c61a-7c8684ca58be"
      },
      "outputs": [
        {
          "data": {
            "text/plain": [
              "(772, 31)"
            ]
          },
          "execution_count": 4,
          "metadata": {},
          "output_type": "execute_result"
        }
      ],
      "source": [
        "df.shape"
      ]
    },
    {
      "cell_type": "code",
      "execution_count": null,
      "metadata": {
        "colab": {
          "base_uri": "https://localhost:8080/"
        },
        "id": "FRVhP0Q45S3e",
        "outputId": "21408265-5afa-4509-c2f3-af68d5245647"
      },
      "outputs": [
        {
          "name": "stdout",
          "output_type": "stream",
          "text": [
            "<class 'pandas.core.frame.DataFrame'>\n",
            "RangeIndex: 772 entries, 0 to 771\n",
            "Data columns (total 31 columns):\n",
            " #   Column  Non-Null Count  Dtype  \n",
            "---  ------  --------------  -----  \n",
            " 0   Time    772 non-null    int64  \n",
            " 1   V1      772 non-null    float64\n",
            " 2   V2      772 non-null    float64\n",
            " 3   V3      772 non-null    float64\n",
            " 4   V4      772 non-null    float64\n",
            " 5   V5      772 non-null    float64\n",
            " 6   V6      772 non-null    float64\n",
            " 7   V7      772 non-null    float64\n",
            " 8   V8      772 non-null    float64\n",
            " 9   V9      772 non-null    float64\n",
            " 10  V10     772 non-null    float64\n",
            " 11  V11     772 non-null    float64\n",
            " 12  V12     772 non-null    float64\n",
            " 13  V13     772 non-null    float64\n",
            " 14  V14     772 non-null    float64\n",
            " 15  V15     772 non-null    float64\n",
            " 16  V16     772 non-null    float64\n",
            " 17  V17     772 non-null    float64\n",
            " 18  V18     772 non-null    float64\n",
            " 19  V19     772 non-null    float64\n",
            " 20  V20     772 non-null    float64\n",
            " 21  V21     772 non-null    float64\n",
            " 22  V22     772 non-null    float64\n",
            " 23  V23     772 non-null    float64\n",
            " 24  V24     772 non-null    float64\n",
            " 25  V25     772 non-null    float64\n",
            " 26  V26     772 non-null    float64\n",
            " 27  V27     772 non-null    float64\n",
            " 28  V28     772 non-null    float64\n",
            " 29  Amount  772 non-null    float64\n",
            " 30  Class   772 non-null    int64  \n",
            "dtypes: float64(29), int64(2)\n",
            "memory usage: 187.1 KB\n"
          ]
        }
      ],
      "source": [
        "df.info()"
      ]
    },
    {
      "cell_type": "code",
      "execution_count": null,
      "metadata": {
        "colab": {
          "base_uri": "https://localhost:8080/"
        },
        "id": "OwQFqYH0zZr0",
        "outputId": "c5eb878e-c2f8-4da5-a4e4-72fd5ac1fd36"
      },
      "outputs": [
        {
          "name": "stdout",
          "output_type": "stream",
          "text": [
            "Class Distribution:\n",
            "0    763\n",
            "1      9\n",
            "Name: Class, dtype: int64\n",
            "Number of Classes: 2\n"
          ]
        }
      ],
      "source": [
        "#class distribution\n",
        "\n",
        "class_distribution = df['Class'].value_counts()\n",
        "print(\"Class Distribution:\")\n",
        "print(class_distribution)\n",
        "\n",
        "# Number of classes\n",
        "num_classes = len(class_distribution)\n",
        "print(\"Number of Classes:\", num_classes)\n"
      ]
    },
    {
      "cell_type": "code",
      "execution_count": null,
      "metadata": {
        "id": "Pt0rhQr60of9"
      },
      "outputs": [],
      "source": [
        "#So We get to know that our dataset is highly imbalanced with 763 instances of class 0\n",
        "# only 9 instances of class 1\n",
        "#So Now I am going to balance the dataset\n"
      ]
    },
    {
      "cell_type": "code",
      "execution_count": null,
      "metadata": {
        "colab": {
          "base_uri": "https://localhost:8080/",
          "height": 521
        },
        "id": "NBxC59rx6Uvt",
        "outputId": "5f8e432b-27fe-4c19-e90a-c7152885382c"
      },
      "outputs": [
        {
          "data": {
            "image/png": "[encoded data removed]",
            "text/plain": [
              "<Figure size 800x600 with 1 Axes>"
            ]
          },
          "metadata": {},
          "output_type": "display_data"
        }
      ],
      "source": [
        "import matplotlib.pyplot as plt\n",
        "class_distribution = df['Class'].value_counts()\n",
        "\n",
        "plt.figure(figsize=(8, 6))\n",
        "plt.pie(class_distribution, labels=class_distribution.index, autopct='%1.1f%%', colors=['skyblue', 'lightcoral'])\n",
        "plt.title('Class Distribution')\n",
        "plt.show()\n"
      ]
    },
    {
      "cell_type": "code",
      "execution_count": null,
      "metadata": {
        "colab": {
          "base_uri": "https://localhost:8080/"
        },
        "id": "ex999LDzIBsN",
        "outputId": "1bf61bf4-d769-400c-8a44-f69ceae1f417"
      },
      "outputs": [
        {
          "name": "stdout",
          "output_type": "stream",
          "text": [
            "Class Distribution of Balanced Dataset:\n",
            "0    763\n",
            "1    763\n",
            "Name: Class, dtype: int64\n"
          ]
        }
      ],
      "source": [
        "#using RandomOverSampler to balance the dataset\n",
        "\n",
        "from imblearn.over_sampling import RandomOverSampler\n",
        "X = df.drop('Class', axis=1)\n",
        "y = df['Class']\n",
        "\n",
        "ros = RandomOverSampler(random_state=42)\n",
        "X_resampled, y_resampled = ros.fit_resample(X, y)\n",
        "\n",
        "X_resampled_df = pd.DataFrame(X_resampled, columns=X.columns)\n",
        "y_resampled_df = pd.Series(y_resampled, name='Class')\n",
        "\n",
        "balanced_df = pd.concat([X_resampled_df, y_resampled_df], axis=1)\n",
        "\n",
        "class_distribution_balanced = balanced_df['Class'].value_counts()\n",
        "print(\"Class Distribution of Balanced Dataset:\")\n",
        "print(class_distribution_balanced)\n"
      ]
    },
    {
      "cell_type": "code",
      "execution_count": null,
      "metadata": {
        "colab": {
          "base_uri": "https://localhost:8080/",
          "height": 255
        },
        "id": "tsBVJG2pIL38",
        "outputId": "9be23cbb-4582-41e3-c8ee-bca948102f90"
      },
      "outputs": [
        {
          "data": {
            "text/html": [
              "\n",
              "  <div id=\"df-6ca64e77-3e82-404b-adfb-04a95fdb1611\" class=\"colab-df-container\">\n",
              "    <div>\n",
              "<style scoped>\n",
              "    .dataframe tbody tr th:only-of-type {\n",
              "        vertical-align: middle;\n",
              "    }\n",
              "\n",
              "    .dataframe tbody tr th {\n",
              "        vertical-align: top;\n",
              "    }\n",
              "\n",
              "    .dataframe thead th {\n",
              "        text-align: right;\n",
              "    }\n",
              "</style>\n",
              "<table border=\"1\" class=\"dataframe\">\n",
              "  <thead>\n",
              "    <tr style=\"text-align: right;\">\n",
              "      <th></th>\n",
              "      <th>Time</th>\n",
              "      <th>V1</th>\n",
              "      <th>V2</th>\n",
              "      <th>V3</th>\n",
              "      <th>V4</th>\n",
              "      <th>V5</th>\n",
              "      <th>V6</th>\n",
              "      <th>V7</th>\n",
              "      <th>V8</th>\n",
              "      <th>V9</th>\n",
              "      <th>...</th>\n",
              "      <th>V21</th>\n",
              "      <th>V22</th>\n",
              "      <th>V23</th>\n",
              "      <th>V24</th>\n",
              "      <th>V25</th>\n",
              "      <th>V26</th>\n",
              "      <th>V27</th>\n",
              "      <th>V28</th>\n",
              "      <th>Amount</th>\n",
              "      <th>Class</th>\n",
              "    </tr>\n",
              "  </thead>\n",
              "  <tbody>\n",
              "    <tr>\n",
              "      <th>0</th>\n",
              "      <td>0</td>\n",
              "      <td>-1.359807</td>\n",
              "      <td>-0.072781</td>\n",
              "      <td>2.536347</td>\n",
              "      <td>1.378155</td>\n",
              "      <td>-0.338321</td>\n",
              "      <td>0.462388</td>\n",
              "      <td>0.239599</td>\n",
              "      <td>0.098698</td>\n",
              "      <td>0.363787</td>\n",
              "      <td>...</td>\n",
              "      <td>-0.018307</td>\n",
              "      <td>0.277838</td>\n",
              "      <td>-0.110474</td>\n",
              "      <td>0.066928</td>\n",
              "      <td>0.128539</td>\n",
              "      <td>-0.189115</td>\n",
              "      <td>0.133558</td>\n",
              "      <td>-0.021053</td>\n",
              "      <td>149.62</td>\n",
              "      <td>0</td>\n",
              "    </tr>\n",
              "    <tr>\n",
              "      <th>1</th>\n",
              "      <td>0</td>\n",
              "      <td>1.191857</td>\n",
              "      <td>0.266151</td>\n",
              "      <td>0.166480</td>\n",
              "      <td>0.448154</td>\n",
              "      <td>0.060018</td>\n",
              "      <td>-0.082361</td>\n",
              "      <td>-0.078803</td>\n",
              "      <td>0.085102</td>\n",
              "      <td>-0.255425</td>\n",
              "      <td>...</td>\n",
              "      <td>-0.225775</td>\n",
              "      <td>-0.638672</td>\n",
              "      <td>0.101288</td>\n",
              "      <td>-0.339846</td>\n",
              "      <td>0.167170</td>\n",
              "      <td>0.125895</td>\n",
              "      <td>-0.008983</td>\n",
              "      <td>0.014724</td>\n",
              "      <td>2.69</td>\n",
              "      <td>1</td>\n",
              "    </tr>\n",
              "    <tr>\n",
              "      <th>2</th>\n",
              "      <td>1</td>\n",
              "      <td>-1.358354</td>\n",
              "      <td>-1.340163</td>\n",
              "      <td>1.773209</td>\n",
              "      <td>0.379780</td>\n",
              "      <td>-0.503198</td>\n",
              "      <td>1.800499</td>\n",
              "      <td>0.791461</td>\n",
              "      <td>0.247676</td>\n",
              "      <td>-1.514654</td>\n",
              "      <td>...</td>\n",
              "      <td>0.247998</td>\n",
              "      <td>0.771679</td>\n",
              "      <td>0.909412</td>\n",
              "      <td>-0.689281</td>\n",
              "      <td>-0.327642</td>\n",
              "      <td>-0.139097</td>\n",
              "      <td>-0.055353</td>\n",
              "      <td>-0.059752</td>\n",
              "      <td>378.66</td>\n",
              "      <td>0</td>\n",
              "    </tr>\n",
              "    <tr>\n",
              "      <th>3</th>\n",
              "      <td>1</td>\n",
              "      <td>-0.966272</td>\n",
              "      <td>-0.185226</td>\n",
              "      <td>1.792993</td>\n",
              "      <td>-0.863291</td>\n",
              "      <td>-0.010309</td>\n",
              "      <td>1.247203</td>\n",
              "      <td>0.237609</td>\n",
              "      <td>0.377436</td>\n",
              "      <td>-1.387024</td>\n",
              "      <td>...</td>\n",
              "      <td>-0.108300</td>\n",
              "      <td>0.005274</td>\n",
              "      <td>-0.190321</td>\n",
              "      <td>-1.175575</td>\n",
              "      <td>0.647376</td>\n",
              "      <td>-0.221929</td>\n",
              "      <td>0.062723</td>\n",
              "      <td>0.061458</td>\n",
              "      <td>123.50</td>\n",
              "      <td>0</td>\n",
              "    </tr>\n",
              "    <tr>\n",
              "      <th>4</th>\n",
              "      <td>2</td>\n",
              "      <td>-1.158233</td>\n",
              "      <td>0.877737</td>\n",
              "      <td>1.548718</td>\n",
              "      <td>0.403034</td>\n",
              "      <td>-0.407193</td>\n",
              "      <td>0.095921</td>\n",
              "      <td>0.592941</td>\n",
              "      <td>-0.270533</td>\n",
              "      <td>0.817739</td>\n",
              "      <td>...</td>\n",
              "      <td>-0.009431</td>\n",
              "      <td>0.798278</td>\n",
              "      <td>-0.137458</td>\n",
              "      <td>0.141267</td>\n",
              "      <td>-0.206010</td>\n",
              "      <td>0.502292</td>\n",
              "      <td>0.219422</td>\n",
              "      <td>0.215153</td>\n",
              "      <td>69.99</td>\n",
              "      <td>0</td>\n",
              "    </tr>\n",
              "  </tbody>\n",
              "</table>\n",
              "<p>5 rows × 31 columns</p>\n",
              "</div>\n",
              "    <div class=\"colab-df-buttons\">\n",
              "\n",
              "  <div class=\"colab-df-container\">\n",
              "    <button class=\"colab-df-convert\" onclick=\"convertToInteractive('df-6ca64e77-3e82-404b-adfb-04a95fdb1611')\"\n",
              "            title=\"Convert this dataframe to an interactive table.\"\n",
              "            style=\"display:none;\">\n",
              "\n",
              "  <svg xmlns=\"http://www.w3.org/2000/svg\" height=\"24px\" viewBox=\"0 -960 960 960\">\n",
              "    <path d=\"M120-120v-720h720v720H120Zm60-500h600v-160H180v160Zm220 220h160v-160H400v160Zm0 220h160v-160H400v160ZM180-400h160v-160H180v160Zm440 0h160v-160H620v160ZM180-180h160v-160H180v160Zm440 0h160v-160H620v160Z\"/>\n",
              "  </svg>\n",
              "    </button>\n",
              "\n",
              "  <style>\n",
              "    .colab-df-container {\n",
              "      display:flex;\n",
              "      gap: 12px;\n",
              "    }\n",
              "\n",
              "    .colab-df-convert {\n",
              "      background-color: #E8F0FE;\n",
              "      border: none;\n",
              "      border-radius: 50%;\n",
              "      cursor: pointer;\n",
              "      display: none;\n",
              "      fill: #1967D2;\n",
              "      height: 32px;\n",
              "      padding: 0 0 0 0;\n",
              "      width: 32px;\n",
              "    }\n",
              "\n",
              "    .colab-df-convert:hover {\n",
              "      background-color: #E2EBFA;\n",
              "      box-shadow: 0px 1px 2px rgba(60, 64, 67, 0.3), 0px 1px 3px 1px rgba(60, 64, 67, 0.15);\n",
              "      fill: #174EA6;\n",
              "    }\n",
              "\n",
              "    .colab-df-buttons div {\n",
              "      margin-bottom: 4px;\n",
              "    }\n",
              "\n",
              "    [theme=dark] .colab-df-convert {\n",
              "      background-color: #3B4455;\n",
              "      fill: #D2E3FC;\n",
              "    }\n",
              "\n",
              "    [theme=dark] .colab-df-convert:hover {\n",
              "      background-color: #434B5C;\n",
              "      box-shadow: 0px 1px 3px 1px rgba(0, 0, 0, 0.15);\n",
              "      filter: drop-shadow(0px 1px 2px rgba(0, 0, 0, 0.3));\n",
              "      fill: #FFFFFF;\n",
              "    }\n",
              "  </style>\n",
              "\n",
              "    <script>\n",
              "      const buttonEl =\n",
              "        document.querySelector('#df-6ca64e77-3e82-404b-adfb-04a95fdb1611 button.colab-df-convert');\n",
              "      buttonEl.style.display =\n",
              "        google.colab.kernel.accessAllowed ? 'block' : 'none';\n",
              "\n",
              "      async function convertToInteractive(key) {\n",
              "        const element = document.querySelector('#df-6ca64e77-3e82-404b-adfb-04a95fdb1611');\n",
              "        const dataTable =\n",
              "          await google.colab.kernel.invokeFunction('convertToInteractive',\n",
              "                                                    [key], {});\n",
              "        if (!dataTable) return;\n",
              "\n",
              "        const docLinkHtml = 'Like what you see? Visit the ' +\n",
              "          '<a target=\"_blank\" href=https://colab.research.google.com/notebooks/data_table.ipynb>data table notebook</a>'\n",
              "          + ' to learn more about interactive tables.';\n",
              "        element.innerHTML = '';\n",
              "        dataTable['output_type'] = 'display_data';\n",
              "        await google.colab.output.renderOutput(dataTable, element);\n",
              "        const docLink = document.createElement('div');\n",
              "        docLink.innerHTML = docLinkHtml;\n",
              "        element.appendChild(docLink);\n",
              "      }\n",
              "    </script>\n",
              "  </div>\n",
              "\n",
              "\n",
              "<div id=\"df-d8797460-039d-451c-8298-e562797de386\">\n",
              "  <button class=\"colab-df-quickchart\" onclick=\"quickchart('df-d8797460-039d-451c-8298-e562797de386')\"\n",
              "            title=\"Suggest charts\"\n",
              "            style=\"display:none;\">\n",
              "\n",
              "<svg xmlns=\"http://www.w3.org/2000/svg\" height=\"24px\"viewBox=\"0 0 24 24\"\n",
              "     width=\"24px\">\n",
              "    <g>\n",
              "        <path d=\"M19 3H5c-1.1 0-2 .9-2 2v14c0 1.1.9 2 2 2h14c1.1 0 2-.9 2-2V5c0-1.1-.9-2-2-2zM9 17H7v-7h2v7zm4 0h-2V7h2v10zm4 0h-2v-4h2v4z\"/>\n",
              "    </g>\n",
              "</svg>\n",
              "  </button>\n",
              "\n",
              "<style>\n",
              "  .colab-df-quickchart {\n",
              "      --bg-color: #E8F0FE;\n",
              "      --fill-color: #1967D2;\n",
              "      --hover-bg-color: #E2EBFA;\n",
              "      --hover-fill-color: #174EA6;\n",
              "      --disabled-fill-color: #AAA;\n",
              "      --disabled-bg-color: #DDD;\n",
              "  }\n",
              "\n",
              "  [theme=dark] .colab-df-quickchart {\n",
              "      --bg-color: #3B4455;\n",
              "      --fill-color: #D2E3FC;\n",
              "      --hover-bg-color: #434B5C;\n",
              "      --hover-fill-color: #FFFFFF;\n",
              "      --disabled-bg-color: #3B4455;\n",
              "      --disabled-fill-color: #666;\n",
              "  }\n",
              "\n",
              "  .colab-df-quickchart {\n",
              "    background-color: var(--bg-color);\n",
              "    border: none;\n",
              "    border-radius: 50%;\n",
              "    cursor: pointer;\n",
              "    display: none;\n",
              "    fill: var(--fill-color);\n",
              "    height: 32px;\n",
              "    padding: 0;\n",
              "    width: 32px;\n",
              "  }\n",
              "\n",
              "  .colab-df-quickchart:hover {\n",
              "    background-color: var(--hover-bg-color);\n",
              "    box-shadow: 0 1px 2px rgba(60, 64, 67, 0.3), 0 1px 3px 1px rgba(60, 64, 67, 0.15);\n",
              "    fill: var(--button-hover-fill-color);\n",
              "  }\n",
              "\n",
              "  .colab-df-quickchart-complete:disabled,\n",
              "  .colab-df-quickchart-complete:disabled:hover {\n",
              "    background-color: var(--disabled-bg-color);\n",
              "    fill: var(--disabled-fill-color);\n",
              "    box-shadow: none;\n",
              "  }\n",
              "\n",
              "  .colab-df-spinner {\n",
              "    border: 2px solid var(--fill-color);\n",
              "    border-color: transparent;\n",
              "    border-bottom-color: var(--fill-color);\n",
              "    animation:\n",
              "      spin 1s steps(1) infinite;\n",
              "  }\n",
              "\n",
              "  @keyframes spin {\n",
              "    0% {\n",
              "      border-color: transparent;\n",
              "      border-bottom-color: var(--fill-color);\n",
              "      border-left-color: var(--fill-color);\n",
              "    }\n",
              "    20% {\n",
              "      border-color: transparent;\n",
              "      border-left-color: var(--fill-color);\n",
              "      border-top-color: var(--fill-color);\n",
              "    }\n",
              "    30% {\n",
              "      border-color: transparent;\n",
              "      border-left-color: var(--fill-color);\n",
              "      border-top-color: var(--fill-color);\n",
              "      border-right-color: var(--fill-color);\n",
              "    }\n",
              "    40% {\n",
              "      border-color: transparent;\n",
              "      border-right-color: var(--fill-color);\n",
              "      border-top-color: var(--fill-color);\n",
              "    }\n",
              "    60% {\n",
              "      border-color: transparent;\n",
              "      border-right-color: var(--fill-color);\n",
              "    }\n",
              "    80% {\n",
              "      border-color: transparent;\n",
              "      border-right-color: var(--fill-color);\n",
              "      border-bottom-color: var(--fill-color);\n",
              "    }\n",
              "    90% {\n",
              "      border-color: transparent;\n",
              "      border-bottom-color: var(--fill-color);\n",
              "    }\n",
              "  }\n",
              "</style>\n",
              "\n",
              "  <script>\n",
              "    async function quickchart(key) {\n",
              "      const quickchartButtonEl =\n",
              "        document.querySelector('#' + key + ' button');\n",
              "      quickchartButtonEl.disabled = true;  // To prevent multiple clicks.\n",
              "      quickchartButtonEl.classList.add('colab-df-spinner');\n",
              "      try {\n",
              "        const charts = await google.colab.kernel.invokeFunction(\n",
              "            'suggestCharts', [key], {});\n",
              "      } catch (error) {\n",
              "        console.error('Error during call to suggestCharts:', error);\n",
              "      }\n",
              "      quickchartButtonEl.classList.remove('colab-df-spinner');\n",
              "      quickchartButtonEl.classList.add('colab-df-quickchart-complete');\n",
              "    }\n",
              "    (() => {\n",
              "      let quickchartButtonEl =\n",
              "        document.querySelector('#df-d8797460-039d-451c-8298-e562797de386 button');\n",
              "      quickchartButtonEl.style.display =\n",
              "        google.colab.kernel.accessAllowed ? 'block' : 'none';\n",
              "    })();\n",
              "  </script>\n",
              "</div>\n",
              "    </div>\n",
              "  </div>\n"
            ],
            "text/plain": [
              "   Time        V1        V2        V3        V4        V5        V6        V7  \\\n",
              "0     0 -1.359807 -0.072781  2.536347  1.378155 -0.338321  0.462388  0.239599   \n",
              "1     0  1.191857  0.266151  0.166480  0.448154  0.060018 -0.082361 -0.078803   \n",
              "2     1 -1.358354 -1.340163  1.773209  0.379780 -0.503198  1.800499  0.791461   \n",
              "3     1 -0.966272 -0.185226  1.792993 -0.863291 -0.010309  1.247203  0.237609   \n",
              "4     2 -1.158233  0.877737  1.548718  0.403034 -0.407193  0.095921  0.592941   \n",
              "\n",
              "         V8        V9  ...       V21       V22       V23       V24       V25  \\\n",
              "0  0.098698  0.363787  ... -0.018307  0.277838 -0.110474  0.066928  0.128539   \n",
              "1  0.085102 -0.255425  ... -0.225775 -0.638672  0.101288 -0.339846  0.167170   \n",
              "2  0.247676 -1.514654  ...  0.247998  0.771679  0.909412 -0.689281 -0.327642   \n",
              "3  0.377436 -1.387024  ... -0.108300  0.005274 -0.190321 -1.175575  0.647376   \n",
              "4 -0.270533  0.817739  ... -0.009431  0.798278 -0.137458  0.141267 -0.206010   \n",
              "\n",
              "        V26       V27       V28  Amount  Class  \n",
              "0 -0.189115  0.133558 -0.021053  149.62      0  \n",
              "1  0.125895 -0.008983  0.014724    2.69      1  \n",
              "2 -0.139097 -0.055353 -0.059752  378.66      0  \n",
              "3 -0.221929  0.062723  0.061458  123.50      0  \n",
              "4  0.502292  0.219422  0.215153   69.99      0  \n",
              "\n",
              "[5 rows x 31 columns]"
            ]
          },
          "execution_count": 10,
          "metadata": {},
          "output_type": "execute_result"
        }
      ],
      "source": [
        "balanced_df.head()"
      ]
    },
    {
      "cell_type": "code",
      "execution_count": null,
      "metadata": {
        "colab": {
          "base_uri": "https://localhost:8080/",
          "height": 564
        },
        "id": "9YHGa5eQIu-V",
        "outputId": "9a6e7ec3-d33a-4bc7-a220-6c9462ea4b2c"
      },
      "outputs": [
        {
          "data": {
            "image/png": "[encoded data removed]",
            "text/plain": [
              "<Figure size 800x600 with 1 Axes>"
            ]
          },
          "metadata": {},
          "output_type": "display_data"
        }
      ],
      "source": [
        "import matplotlib.pyplot as plt\n",
        "#graph for balanced dataset\n",
        "plt.figure(figsize=(8, 6))\n",
        "balanced_df['Class'].value_counts().plot(kind='bar', color=['skyblue', 'lightcoral'])\n",
        "plt.title('Class Distribution of Balanced Dataset')\n",
        "plt.xlabel('Class')\n",
        "plt.ylabel('Count')\n",
        "plt.xticks(rotation=0)\n",
        "plt.show()\n"
      ]
    },
    {
      "cell_type": "code",
      "execution_count": null,
      "metadata": {
        "colab": {
          "base_uri": "https://localhost:8080/"
        },
        "id": "gYCXttu4I1AQ",
        "outputId": "4b967825-0578-4f30-e009-6552ead19dd1"
      },
      "outputs": [
        {
          "name": "stdout",
          "output_type": "stream",
          "text": [
            "Sample Size for Simple Random Sampling: 385\n"
          ]
        }
      ],
      "source": [
        "#(i) Simple random Sampling\n",
        "import numpy as np\n",
        "# Calculate sample size using the formula\n",
        "#where n= (Z^2 * p * (1-p)/E^2)\n",
        "n_simple_random = int(np.ceil((1.96**2 * 0.5 * (1 - 0.5)) / 0.05**2))\n",
        "min_class_size = min(len(balanced_df[balanced_df['Class'] == 0]), len(balanced_df[balanced_df['Class'] == 1]))\n",
        "n_simple_random = min(n_simple_random, min_class_size)\n",
        "\n",
        "sample_simple_random = balanced_df.sample(n=n_simple_random, random_state=42)\n",
        "\n",
        "print(\"Sample Size for Simple Random Sampling:\", sample_simple_random.shape[0])\n"
      ]
    },
    {
      "cell_type": "code",
      "execution_count": null,
      "metadata": {
        "colab": {
          "base_uri": "https://localhost:8080/"
        },
        "id": "jTnskf395zAQ",
        "outputId": "d0f2111e-a286-4cda-abf1-eeb1bdbdaef7"
      },
      "outputs": [
        {
          "name": "stdout",
          "output_type": "stream",
          "text": [
            "Sample Size for Stratified Sampling: 764\n"
          ]
        }
      ],
      "source": [
        "#(ii) Stratified Sampling\n",
        "p = 0.5   # Estimated proportion\n",
        "\n",
        "# Calculate sample size using the formula\n",
        "#(Z**2 * p * (1 - p)) / (E/S)**2)\n",
        "#S is no of strata, S=2 bcz of the two classes\n",
        "n_stratified = int(np.ceil((1.96**2 * 0.5 * (1 - 0.5)) / (0.05/2)**2))\n",
        "\n",
        "min_class_size = min(len(balanced_df[balanced_df['Class'] == 0]), len(balanced_df[balanced_df['Class'] == 1]))\n",
        "n_stratified = min(n_stratified, min_class_size)\n",
        "\n",
        "sample_stratified = pd.DataFrame()\n",
        "for class_label in balanced_df['Class'].unique():\n",
        "    class_samples = balanced_df[balanced_df['Class'] == class_label]\n",
        "    sample_size_per_class = int(np.ceil((len(class_samples) / len(balanced_df)) * n_stratified))\n",
        "    class_sample = class_samples.sample(n=sample_size_per_class, random_state=42)\n",
        "    sample_stratified = pd.concat([sample_stratified, class_sample])\n",
        "\n",
        "print(\"Sample Size for Stratified Sampling:\", sample_stratified.shape[0])\n"
      ]
    },
    {
      "cell_type": "code",
      "execution_count": null,
      "metadata": {
        "colab": {
          "base_uri": "https://localhost:8080/"
        },
        "id": "HQjtEMrKBExE",
        "outputId": "18d313f9-c71f-4a42-bedb-0bf247b6b803"
      },
      "outputs": [
        {
          "name": "stdout",
          "output_type": "stream",
          "text": [
            "Sample Size for Cluster Sampling: 763\n"
          ]
        }
      ],
      "source": [
        "#(iii) Cluster Sampling\n",
        "C = 50  # here C is avg size of cluster\n",
        "# Calculate sample size using the formula\n",
        "Z=1.96\n",
        "p=0.5\n",
        "E=0.05\n",
        "n_cluster = int(np.ceil((Z**2 * p * (1 - p)) / (E / C)**2))\n",
        "\n",
        "min_class_size = min(len(balanced_df[balanced_df['Class'] == 0]), len(balanced_df[balanced_df['Class'] == 1]))\n",
        "n_cluster = min(n_cluster, min_class_size)\n",
        "\n",
        "sample_cluster = pd.DataFrame()\n",
        "cluster_indices = np.array_split(balanced_df.index, n_cluster)\n",
        "for cluster_index in cluster_indices:\n",
        "    cluster_sample = balanced_df.loc[cluster_index].sample(random_state=42)\n",
        "    sample_cluster = pd.concat([sample_cluster, cluster_sample])\n",
        "\n",
        "print(\"Sample Size for Cluster Sampling:\", sample_cluster.shape[0])\n"
      ]
    },
    {
      "cell_type": "code",
      "execution_count": null,
      "metadata": {
        "colab": {
          "base_uri": "https://localhost:8080/"
        },
        "id": "2-cjK0iSbL5l",
        "outputId": "34b04819-276e-4dfe-f267-abc27b09e4de"
      },
      "outputs": [
        {
          "name": "stdout",
          "output_type": "stream",
          "text": [
            "Sample Size for Bootstrap Sampling: 1526\n"
          ]
        }
      ],
      "source": [
        "#iv\n",
        "#bootstrap sampling\n",
        "\n",
        "from sklearn.utils import resample\n",
        "\n",
        "np.random.seed(42)\n",
        "n_bootstrap = len(balanced_df)\n",
        "sample_bootstrap = resample(balanced_df, replace=True, n_samples=n_bootstrap, random_state=42)\n",
        "print(\"Sample Size for Bootstrap Sampling:\", sample_bootstrap.shape[0])\n",
        "\n"
      ]
    },
    {
      "cell_type": "code",
      "execution_count": null,
      "metadata": {
        "colab": {
          "base_uri": "https://localhost:8080/"
        },
        "id": "UOTiM4pVbMCX",
        "outputId": "85e16e9d-d840-4cd2-a4ce-7d5951692653"
      },
      "outputs": [
        {
          "name": "stdout",
          "output_type": "stream",
          "text": [
            "Sample Size for Systematic Sampling: 1526\n"
          ]
        }
      ],
      "source": [
        "#v\n",
        "#systematic sampling\n",
        "k = len(balanced_df) // 1000\n",
        "n_systematic = len(balanced_df) // k\n",
        "sample_systematic = balanced_df.iloc[::k]\n",
        "\n",
        "print(\"Sample Size for Systematic Sampling:\", sample_systematic.shape[0])\n"
      ]
    },
    {
      "cell_type": "code",
      "execution_count": null,
      "metadata": {
        "id": "a4eW84QGdY1D"
      },
      "outputs": [],
      "source": []
    },
    {
      "cell_type": "markdown",
      "metadata": {
        "id": "b2HmwIj7fj5R"
      },
      "source": [
        "# LOGISTIC REGRESSION OVER EACH SAMPLE AND FINDING ACCURACY"
      ]
    },
    {
      "cell_type": "code",
      "execution_count": null,
      "metadata": {
        "colab": {
          "base_uri": "https://localhost:8080/"
        },
        "id": "P6zDXr-cfqyB",
        "outputId": "2e908662-b878-4c49-a2b2-b4ebae9a9bc4"
      },
      "outputs": [
        {
          "name": "stdout",
          "output_type": "stream",
          "text": [
            "Accuracy for Simple Random Sampling with Train-Test Split: 0.8831168831168831\n"
          ]
        },
        {
          "name": "stderr",
          "output_type": "stream",
          "text": [
            "/usr/local/lib/python3.10/dist-packages/sklearn/linear_model/_logistic.py:458: ConvergenceWarning: lbfgs failed to converge (status=1):\n",
            "STOP: TOTAL NO. of ITERATIONS REACHED LIMIT.\n",
            "\n",
            "Increase the number of iterations (max_iter) or scale the data as shown in:\n",
            "    https://scikit-learn.org/stable/modules/preprocessing.html\n",
            "Please also refer to the documentation for alternative solver options:\n",
            "    https://scikit-learn.org/stable/modules/linear_model.html#logistic-regression\n",
            "  n_iter_i = _check_optimize_result(\n"
          ]
        }
      ],
      "source": [
        "#SIMPLE RANDOM Sampling\n",
        "from sklearn.model_selection import train_test_split\n",
        "X_train, X_test, y_train, y_test = train_test_split(X_simple_random, y_simple_random, test_size=0.2, random_state=42)\n",
        "logistic_regression = LogisticRegression(random_state=42)\n",
        "logistic_regression.fit(X_train, y_train)\n",
        "y_pred_test = logistic_regression.predict(X_test)\n",
        "\n",
        "accuracy_simple_random_test = accuracy_score(y_test, y_pred_test)\n",
        "print(\"Accuracy for Simple Random Sampling with Train-Test Split:\", accuracy_simple_random_test)\n",
        "\n"
      ]
    },
    {
      "cell_type": "code",
      "execution_count": null,
      "metadata": {
        "colab": {
          "base_uri": "https://localhost:8080/"
        },
        "id": "qxKy7RvogRPB",
        "outputId": "a22a0379-6c52-4663-ad8d-161a77a143f0"
      },
      "outputs": [
        {
          "name": "stdout",
          "output_type": "stream",
          "text": [
            "Accuracy for Stratified Sampling with Train-Test Split: 0.8888888888888888\n"
          ]
        },
        {
          "name": "stderr",
          "output_type": "stream",
          "text": [
            "/usr/local/lib/python3.10/dist-packages/sklearn/linear_model/_logistic.py:458: ConvergenceWarning: lbfgs failed to converge (status=1):\n",
            "STOP: TOTAL NO. of ITERATIONS REACHED LIMIT.\n",
            "\n",
            "Increase the number of iterations (max_iter) or scale the data as shown in:\n",
            "    https://scikit-learn.org/stable/modules/preprocessing.html\n",
            "Please also refer to the documentation for alternative solver options:\n",
            "    https://scikit-learn.org/stable/modules/linear_model.html#logistic-regression\n",
            "  n_iter_i = _check_optimize_result(\n"
          ]
        }
      ],
      "source": [
        "#STRATIFIED Sampling\n",
        "X_train, X_test, y_train, y_test = train_test_split(X_stratified, y_stratified, test_size=0.2, random_state=42)\n",
        "logistic_regression = LogisticRegression(random_state=42)\n",
        "logistic_regression.fit(X_train, y_train)\n",
        "y_pred_test = logistic_regression.predict(X_test)\n",
        "accuracy_stratified_test = accuracy_score(y_test, y_pred_test)\n",
        "\n",
        "print(\"Accuracy for Stratified Sampling with Train-Test Split:\", accuracy_stratified_test)\n"
      ]
    },
    {
      "cell_type": "code",
      "execution_count": null,
      "metadata": {
        "colab": {
          "base_uri": "https://localhost:8080/"
        },
        "id": "0zQQ9THggfez",
        "outputId": "28ab329c-3f7d-4cb8-f420-91910d122114"
      },
      "outputs": [
        {
          "name": "stdout",
          "output_type": "stream",
          "text": [
            "Accuracy for Cluster Sampling with Train-Test Split: 0.954248366013072\n"
          ]
        },
        {
          "name": "stderr",
          "output_type": "stream",
          "text": [
            "/usr/local/lib/python3.10/dist-packages/sklearn/linear_model/_logistic.py:458: ConvergenceWarning: lbfgs failed to converge (status=1):\n",
            "STOP: TOTAL NO. of ITERATIONS REACHED LIMIT.\n",
            "\n",
            "Increase the number of iterations (max_iter) or scale the data as shown in:\n",
            "    https://scikit-learn.org/stable/modules/preprocessing.html\n",
            "Please also refer to the documentation for alternative solver options:\n",
            "    https://scikit-learn.org/stable/modules/linear_model.html#logistic-regression\n",
            "  n_iter_i = _check_optimize_result(\n"
          ]
        }
      ],
      "source": [
        "#Cluster Sampling\n",
        "\n",
        "X_train, X_test, y_train, y_test = train_test_split(X_cluster, y_cluster, test_size=0.2, random_state=42)\n",
        "logistic_regression = LogisticRegression(random_state=42)\n",
        "logistic_regression.fit(X_train, y_train)\n",
        "y_pred_test = logistic_regression.predict(X_test)\n",
        "accuracy_cluster_test = accuracy_score(y_test, y_pred_test)\n",
        "\n",
        "print(\"Accuracy for Cluster Sampling with Train-Test Split:\", accuracy_cluster_test)\n"
      ]
    },
    {
      "cell_type": "code",
      "execution_count": null,
      "metadata": {
        "colab": {
          "base_uri": "https://localhost:8080/"
        },
        "id": "qvGLLK6Kgi8R",
        "outputId": "87bee8bb-170d-47d9-8a67-516c43b5c4a8"
      },
      "outputs": [
        {
          "name": "stdout",
          "output_type": "stream",
          "text": [
            "Accuracy for Bootstrap Sampling with Train-Test Split: 0.9477124183006536\n"
          ]
        },
        {
          "name": "stderr",
          "output_type": "stream",
          "text": [
            "/usr/local/lib/python3.10/dist-packages/sklearn/linear_model/_logistic.py:458: ConvergenceWarning: lbfgs failed to converge (status=1):\n",
            "STOP: TOTAL NO. of ITERATIONS REACHED LIMIT.\n",
            "\n",
            "Increase the number of iterations (max_iter) or scale the data as shown in:\n",
            "    https://scikit-learn.org/stable/modules/preprocessing.html\n",
            "Please also refer to the documentation for alternative solver options:\n",
            "    https://scikit-learn.org/stable/modules/linear_model.html#logistic-regression\n",
            "  n_iter_i = _check_optimize_result(\n"
          ]
        }
      ],
      "source": [
        "#Bootstrap Sampling\n",
        "\n",
        "X_bootstrap = sample_bootstrap.drop(columns=['Class'])\n",
        "y_bootstrap = sample_bootstrap['Class']\n",
        "X_train, X_test, y_train, y_test = train_test_split(X_bootstrap, y_bootstrap, test_size=0.2, random_state=42)\n",
        "logistic_regression = LogisticRegression(random_state=42)\n",
        "\n",
        "logistic_regression.fit(X_train, y_train)\n",
        "y_pred_test = logistic_regression.predict(X_test)\n",
        "accuracy_bootstrap_test = accuracy_score(y_test, y_pred_test)\n",
        "\n",
        "print(\"Accuracy for Bootstrap Sampling with Train-Test Split:\", accuracy_bootstrap_test)\n"
      ]
    },
    {
      "cell_type": "code",
      "execution_count": null,
      "metadata": {
        "colab": {
          "base_uri": "https://localhost:8080/"
        },
        "id": "77wZ2C_Sgkcz",
        "outputId": "d1de7bdb-1d54-4021-d074-3d63acef13b8"
      },
      "outputs": [
        {
          "name": "stdout",
          "output_type": "stream",
          "text": [
            "Accuracy for Systematic Sampling with Train-Test Split: 0.9183006535947712\n"
          ]
        },
        {
          "name": "stderr",
          "output_type": "stream",
          "text": [
            "/usr/local/lib/python3.10/dist-packages/sklearn/linear_model/_logistic.py:458: ConvergenceWarning: lbfgs failed to converge (status=1):\n",
            "STOP: TOTAL NO. of ITERATIONS REACHED LIMIT.\n",
            "\n",
            "Increase the number of iterations (max_iter) or scale the data as shown in:\n",
            "    https://scikit-learn.org/stable/modules/preprocessing.html\n",
            "Please also refer to the documentation for alternative solver options:\n",
            "    https://scikit-learn.org/stable/modules/linear_model.html#logistic-regression\n",
            "  n_iter_i = _check_optimize_result(\n"
          ]
        }
      ],
      "source": [
        "#Systematic Sampling\n",
        "\n",
        "from sklearn.linear_model import LogisticRegression\n",
        "from sklearn.metrics import accuracy_score\n",
        "from sklearn.model_selection import train_test_split\n",
        "logistic_regression = LogisticRegression(random_state=42)\n",
        "\n",
        "X_systematic = sample_systematic.drop(columns=['Class'])\n",
        "y_systematic = sample_systematic['Class']\n",
        "X_train, X_test, y_train, y_test = train_test_split(X_systematic, y_systematic, test_size=0.2, random_state=42)\n",
        "\n",
        "logistic_regression.fit(X_train, y_train)\n",
        "y_pred_test = logistic_regression.predict(X_test)\n",
        "accuracy_systematic_test = accuracy_score(y_test, y_pred_test)\n",
        "\n",
        "print(\"Accuracy for Systematic Sampling with Train-Test Split:\", accuracy_systematic_test)\n"
      ]
    },
    {
      "cell_type": "code",
      "execution_count": null,
      "metadata": {
        "id": "AY01RrKSgmT2"
      },
      "outputs": [],
      "source": []
    },
    {
      "cell_type": "markdown",
      "metadata": {
        "id": "LceAS0yWizfo"
      },
      "source": [
        "# **RANDOM FOREST CLASSIFIER**"
      ]
    },
    {
      "cell_type": "code",
      "execution_count": null,
      "metadata": {
        "colab": {
          "base_uri": "https://localhost:8080/"
        },
        "id": "qXbMSH2Ii5KI",
        "outputId": "2f4ef6bf-d7fe-4a1c-d937-eb6549ce5756"
      },
      "outputs": [
        {
          "name": "stdout",
          "output_type": "stream",
          "text": [
            "Accuracy for Simple Random Sampling with Random Forest: 0.987012987012987\n"
          ]
        }
      ],
      "source": [
        "#SIMPLE RANDOM Sampling\n",
        "\n",
        "from sklearn.ensemble import RandomForestClassifier\n",
        "from sklearn.metrics import accuracy_score\n",
        "from sklearn.model_selection import train_test_split\n",
        "\n",
        "random_forest = RandomForestClassifier(random_state=42)\n",
        "X_simple_random = sample_simple_random.drop(columns=['Class'])\n",
        "y_simple_random = sample_simple_random['Class']\n",
        "X_train, X_test, y_train, y_test = train_test_split(X_simple_random, y_simple_random, test_size=0.4, random_state=42)\n",
        "random_forest.fit(X_train, y_train)\n",
        "\n",
        "y_pred_test = random_forest.predict(X_test)\n",
        "accuracy_simple_random_test = accuracy_score(y_test, y_pred_test)\n",
        "\n",
        "print(\"Accuracy for Simple Random Sampling with Random Forest:\", accuracy_simple_random_test)\n"
      ]
    },
    {
      "cell_type": "code",
      "execution_count": null,
      "metadata": {
        "colab": {
          "base_uri": "https://localhost:8080/"
        },
        "id": "BTDCrjNWi70V",
        "outputId": "72da66b8-b5d0-49b4-8077-6897d46d9af4"
      },
      "outputs": [
        {
          "name": "stdout",
          "output_type": "stream",
          "text": [
            "Accuracy for Stratified Sampling with Random Forest: 1.0\n"
          ]
        }
      ],
      "source": [
        "#STRATIFIED Sampling\n",
        "\n",
        "from sklearn.ensemble import RandomForestClassifier\n",
        "from sklearn.metrics import accuracy_score\n",
        "from sklearn.model_selection import train_test_split\n",
        "random_forest = RandomForestClassifier(random_state=42)\n",
        "X_stratified = sample_stratified.drop(columns=['Class'])\n",
        "y_stratified = sample_stratified['Class']\n",
        "\n",
        "\n",
        "X_train, X_test, y_train, y_test = train_test_split(X_stratified, y_stratified, test_size=0.4, random_state=42)\n",
        "\n",
        "random_forest.fit(X_train, y_train)\n",
        "\n",
        "y_pred_test = random_forest.predict(X_test)\n",
        "accuracy_stratified_test = accuracy_score(y_test, y_pred_test)\n",
        "\n",
        "print(\"Accuracy for Stratified Sampling with Random Forest:\", accuracy_stratified_test)\n"
      ]
    },
    {
      "cell_type": "code",
      "execution_count": null,
      "metadata": {
        "colab": {
          "base_uri": "https://localhost:8080/"
        },
        "id": "I77TknIQi9TQ",
        "outputId": "f77c89b9-5830-4a4e-ffec-b58b06de65be"
      },
      "outputs": [
        {
          "name": "stdout",
          "output_type": "stream",
          "text": [
            "Accuracy for Cluster Sampling with Random Forest: 0.9967320261437909\n"
          ]
        }
      ],
      "source": [
        "#CLUSTER Sampling\n",
        "from sklearn.ensemble import RandomForestClassifier\n",
        "from sklearn.metrics import accuracy_score\n",
        "from sklearn.model_selection import train_test_split\n",
        "\n",
        "random_forest = RandomForestClassifier(random_state=42)\n",
        "X_cluster = sample_cluster.drop(columns=['Class'])\n",
        "y_cluster = sample_cluster['Class']\n",
        "\n",
        "X_train, X_test, y_train, y_test = train_test_split(X_cluster, y_cluster, test_size=0.4, random_state=42)\n",
        "random_forest.fit(X_train, y_train)\n",
        "y_pred_test = random_forest.predict(X_test)\n",
        "\n",
        "accuracy_cluster_test = accuracy_score(y_test, y_pred_test)\n",
        "\n",
        "print(\"Accuracy for Cluster Sampling with Random Forest:\", accuracy_cluster_test)\n"
      ]
    },
    {
      "cell_type": "code",
      "execution_count": null,
      "metadata": {
        "colab": {
          "base_uri": "https://localhost:8080/"
        },
        "id": "_fsKAKPvjeR6",
        "outputId": "61a59aea-70b6-4f0a-94da-8b6a05db1ade"
      },
      "outputs": [
        {
          "name": "stdout",
          "output_type": "stream",
          "text": [
            "Accuracy for Bootstrap Sampling with Random Forest: 1.0\n"
          ]
        }
      ],
      "source": [
        "#Bootstrap Sampling\n",
        "\n",
        "from sklearn.ensemble import RandomForestClassifier\n",
        "from sklearn.metrics import accuracy_score\n",
        "from sklearn.model_selection import train_test_split\n",
        "\n",
        "random_forest = RandomForestClassifier(random_state=42)\n",
        "\n",
        "X_bootstrap = sample_bootstrap.drop(columns=['Class'])\n",
        "y_bootstrap = sample_bootstrap['Class']\n",
        "\n",
        "X_train, X_test, y_train, y_test = train_test_split(X_bootstrap, y_bootstrap, test_size=0.4, random_state=42)\n",
        "\n",
        "random_forest.fit(X_train, y_train)\n",
        "y_pred_test = random_forest.predict(X_test)\n",
        "\n",
        "accuracy_bootstrap_test = accuracy_score(y_test, y_pred_test)\n",
        "\n",
        "print(\"Accuracy for Bootstrap Sampling with Random Forest:\", accuracy_bootstrap_test)\n"
      ]
    },
    {
      "cell_type": "code",
      "execution_count": null,
      "metadata": {
        "colab": {
          "base_uri": "https://localhost:8080/"
        },
        "id": "yOfkAxChjgmP",
        "outputId": "8506159e-feb3-4be7-81bf-7923831b5b40"
      },
      "outputs": [
        {
          "name": "stdout",
          "output_type": "stream",
          "text": [
            "Accuracy for Systematic Sampling with Random Forest: 0.9983633387888707\n"
          ]
        }
      ],
      "source": [
        "#Systematic Sampling\n",
        "from sklearn.ensemble import RandomForestClassifier\n",
        "from sklearn.metrics import accuracy_score\n",
        "from sklearn.model_selection import train_test_split\n",
        "\n",
        "random_forest = RandomForestClassifier(random_state=42)\n",
        "X_systematic = sample_systematic.drop(columns=['Class'])\n",
        "y_systematic = sample_systematic['Class']\n",
        "\n",
        "X_train, X_test, y_train, y_test = train_test_split(X_systematic, y_systematic, test_size=0.4, random_state=42)\n",
        "\n",
        "random_forest.fit(X_train, y_train)\n",
        "y_pred_test = random_forest.predict(X_test)\n",
        "\n",
        "accuracy_systematic_test = accuracy_score(y_test, y_pred_test)\n",
        "\n",
        "print(\"Accuracy for Systematic Sampling with Random Forest:\", accuracy_systematic_test)\n"
      ]
    },
    {
      "cell_type": "code",
      "execution_count": null,
      "metadata": {
        "id": "6zHw7SyNki1O"
      },
      "outputs": [],
      "source": []
    },
    {
      "cell_type": "markdown",
      "metadata": {
        "id": "lu6kXprTlITV"
      },
      "source": [
        "# DECISION TREES Classifier\n",
        "\n"
      ]
    },
    {
      "cell_type": "code",
      "execution_count": null,
      "metadata": {
        "colab": {
          "base_uri": "https://localhost:8080/"
        },
        "id": "f2AqnV4clNkW",
        "outputId": "c68b5b92-42db-496b-f406-99f3e449bc0b"
      },
      "outputs": [
        {
          "name": "stdout",
          "output_type": "stream",
          "text": [
            "Accuracy for Simple Random Sampling with Decision Tree: 0.9675324675324676\n"
          ]
        }
      ],
      "source": [
        "#simple random Sampling\n",
        "\n",
        "from sklearn.tree import DecisionTreeClassifier\n",
        "from sklearn.metrics import accuracy_score\n",
        "from sklearn.model_selection import train_test_split\n",
        "decision_tree = DecisionTreeClassifier(random_state=42)\n",
        "X_simple_random = sample_simple_random.drop(columns=['Class'])\n",
        "y_simple_random = sample_simple_random['Class']\n",
        "X_train, X_test, y_train, y_test = train_test_split(X_simple_random, y_simple_random, test_size=0.4, random_state=42)\n",
        "\n",
        "decision_tree.fit(X_train, y_train)\n",
        "\n",
        "y_pred_test = decision_tree.predict(X_test)\n",
        "\n",
        "accuracy_simple_random_test = accuracy_score(y_test, y_pred_test)\n",
        "print(\"Accuracy for Simple Random Sampling with Decision Tree:\", accuracy_simple_random_test)\n"
      ]
    },
    {
      "cell_type": "code",
      "execution_count": null,
      "metadata": {
        "colab": {
          "base_uri": "https://localhost:8080/"
        },
        "id": "sETVuxotlO7C",
        "outputId": "b33b92e3-e8b2-44c7-a83d-b0642190f7b0"
      },
      "outputs": [
        {
          "name": "stdout",
          "output_type": "stream",
          "text": [
            "Accuracy for Stratified Sampling with Decision Tree: 0.9967320261437909\n"
          ]
        }
      ],
      "source": [
        "#stratified Sampling\n",
        "from sklearn.tree import DecisionTreeClassifier\n",
        "from sklearn.metrics import accuracy_score\n",
        "from sklearn.model_selection import train_test_split\n",
        "\n",
        "decision_tree = DecisionTreeClassifier(random_state=42)\n",
        "\n",
        "X_stratified = sample_stratified.drop(columns=['Class'])\n",
        "y_stratified = sample_stratified['Class']\n",
        "\n",
        "X_train, X_test, y_train, y_test = train_test_split(X_stratified, y_stratified, test_size=0.4, random_state=42)\n",
        "\n",
        "decision_tree.fit(X_train, y_train)\n",
        "\n",
        "y_pred_test = decision_tree.predict(X_test)\n",
        "\n",
        "accuracy_stratified_test = accuracy_score(y_test, y_pred_test)\n",
        "\n",
        "print(\"Accuracy for Stratified Sampling with Decision Tree:\", accuracy_stratified_test)\n"
      ]
    },
    {
      "cell_type": "code",
      "execution_count": null,
      "metadata": {
        "colab": {
          "base_uri": "https://localhost:8080/"
        },
        "id": "bF5_0G4hlQKb",
        "outputId": "8e921a09-6504-457f-ea15-ea31f3a16e17"
      },
      "outputs": [
        {
          "name": "stdout",
          "output_type": "stream",
          "text": [
            "Accuracy for Cluster Sampling with Decision Tree: 0.9869281045751634\n"
          ]
        }
      ],
      "source": [
        "#Cluster Sampling\n",
        "from sklearn.tree import DecisionTreeClassifier\n",
        "from sklearn.metrics import accuracy_score\n",
        "from sklearn.model_selection import train_test_split\n",
        "\n",
        "decision_tree = DecisionTreeClassifier(random_state=42)\n",
        "\n",
        "X_cluster = sample_cluster.drop(columns=['Class'])\n",
        "y_cluster = sample_cluster['Class']\n",
        "X_train, X_test, y_train, y_test = train_test_split(X_cluster, y_cluster, test_size=0.4, random_state=42)\n",
        "decision_tree.fit(X_train, y_train)\n",
        "y_pred_test = decision_tree.predict(X_test)\n",
        "\n",
        "accuracy_cluster_test = accuracy_score(y_test, y_pred_test)\n",
        "\n",
        "print(\"Accuracy for Cluster Sampling with Decision Tree:\", accuracy_cluster_test)\n"
      ]
    },
    {
      "cell_type": "code",
      "execution_count": null,
      "metadata": {
        "colab": {
          "base_uri": "https://localhost:8080/"
        },
        "id": "lKxIqgsBlRHl",
        "outputId": "f3228654-eee0-40fb-afd6-5bdd86755fa5"
      },
      "outputs": [
        {
          "name": "stdout",
          "output_type": "stream",
          "text": [
            "Accuracy for Bootstrap Sampling with Decision Tree: 0.9983633387888707\n"
          ]
        }
      ],
      "source": [
        "#Bootstrap Sampling\n",
        "from sklearn.tree import DecisionTreeClassifier\n",
        "from sklearn.metrics import accuracy_score\n",
        "from sklearn.model_selection import train_test_split\n",
        "\n",
        "decision_tree = DecisionTreeClassifier(random_state=42)\n",
        "X_bootstrap = sample_bootstrap.drop(columns=['Class'])\n",
        "y_bootstrap = sample_bootstrap['Class']\n",
        "\n",
        "X_train, X_test, y_train, y_test = train_test_split(X_bootstrap, y_bootstrap, test_size=0.4, random_state=42)\n",
        "decision_tree.fit(X_train, y_train)\n",
        "y_pred_test = decision_tree.predict(X_test)\n",
        "accuracy_bootstrap_test = accuracy_score(y_test, y_pred_test)\n",
        "\n",
        "print(\"Accuracy for Bootstrap Sampling with Decision Tree:\", accuracy_bootstrap_test)\n"
      ]
    },
    {
      "cell_type": "code",
      "execution_count": null,
      "metadata": {
        "colab": {
          "base_uri": "https://localhost:8080/"
        },
        "id": "A-KUC06xlSnZ",
        "outputId": "4cef2b76-7540-494b-e0f9-7e83775f8260"
      },
      "outputs": [
        {
          "name": "stdout",
          "output_type": "stream",
          "text": [
            "Accuracy for Systematic Sampling with Decision Tree: 0.9852700490998363\n"
          ]
        }
      ],
      "source": [
        "#Systematic Sampling\n",
        "from sklearn.tree import DecisionTreeClassifier\n",
        "from sklearn.metrics import accuracy_score\n",
        "from sklearn.model_selection import train_test_split\n",
        "decision_tree = DecisionTreeClassifier(random_state=42)\n",
        "\n",
        "X_systematic = sample_systematic.drop(columns=['Class'])\n",
        "y_systematic = sample_systematic['Class']\n",
        "\n",
        "X_train, X_test, y_train, y_test = train_test_split(X_systematic, y_systematic, test_size=0.4, random_state=42)\n",
        "decision_tree.fit(X_train, y_train)\n",
        "y_pred_test = decision_tree.predict(X_test)\n",
        "accuracy_systematic_test = accuracy_score(y_test, y_pred_test)\n",
        "\n",
        "print(\"Accuracy for Systematic Sampling with Decision Tree:\", accuracy_systematic_test)\n"
      ]
    },
    {
      "cell_type": "markdown",
      "metadata": {
        "id": "6CJF3Q0LmOz7"
      },
      "source": [
        "### **Support Vector Machines (SVM)**"
      ]
    },
    {
      "cell_type": "code",
      "execution_count": null,
      "metadata": {
        "colab": {
          "base_uri": "https://localhost:8080/"
        },
        "id": "Pe0V9kzOmcdE",
        "outputId": "96d1b843-9100-4671-b6f8-89f756386770"
      },
      "outputs": [
        {
          "name": "stdout",
          "output_type": "stream",
          "text": [
            "Accuracy for Simple Random Sampling: 0.8961038961038961\n"
          ]
        }
      ],
      "source": [
        "#simple random Sampling\n",
        "\n",
        "from sklearn.model_selection import train_test_split\n",
        "from sklearn.svm import SVC\n",
        "from sklearn.metrics import accuracy_score\n",
        "\n",
        "X_simple_random = sample_simple_random.drop(columns=['Class'])\n",
        "y_simple_random = sample_simple_random['Class']\n",
        "X_train_simple_random, X_test_simple_random, y_train_simple_random, y_test_simple_random = train_test_split(\n",
        "    X_simple_random, y_simple_random, test_size=0.2, random_state=42\n",
        ")\n",
        "\n",
        "svm_classifier_simple_random = SVC(kernel='linear', random_state=42)\n",
        "svm_classifier_simple_random.fit(X_train_simple_random, y_train_simple_random)\n",
        "y_pred_simple_random = svm_classifier_simple_random.predict(X_test_simple_random)\n",
        "\n",
        "accuracy_simple_random = accuracy_score(y_test_simple_random, y_pred_simple_random)\n",
        "print(\"Accuracy for Simple Random Sampling:\", accuracy_simple_random)\n",
        "\n"
      ]
    },
    {
      "cell_type": "code",
      "execution_count": null,
      "metadata": {
        "colab": {
          "base_uri": "https://localhost:8080/"
        },
        "id": "DjlXUp4_mloA",
        "outputId": "e3f5b453-aff9-4053-e6ef-cfef144f47c4"
      },
      "outputs": [
        {
          "name": "stdout",
          "output_type": "stream",
          "text": [
            "Accuracy for Stratified Sampling: 0.9019607843137255\n"
          ]
        }
      ],
      "source": [
        "#Stratified Sampling\n",
        "from sklearn.model_selection import train_test_split\n",
        "from sklearn.svm import SVC\n",
        "from sklearn.metrics import accuracy_score\n",
        "X_stratified = sample_stratified.drop(columns=['Class'])\n",
        "y_stratified = sample_stratified['Class']\n",
        "\n",
        "X_train_stratified, X_test_stratified, y_train_stratified, y_test_stratified = train_test_split(\n",
        "    X_stratified, y_stratified, test_size=0.4, random_state=42\n",
        ")\n",
        "svm_classifier_stratified = SVC(kernel='linear', random_state=42)\n",
        "svm_classifier_stratified.fit(X_train_stratified, y_train_stratified)\n",
        "y_pred_stratified = svm_classifier_stratified.predict(X_test_stratified)\n",
        "\n",
        "accuracy_stratified = accuracy_score(y_test_stratified, y_pred_stratified)\n",
        "print(\"Accuracy for Stratified Sampling:\", accuracy_stratified)\n"
      ]
    },
    {
      "cell_type": "code",
      "execution_count": null,
      "metadata": {
        "colab": {
          "base_uri": "https://localhost:8080/"
        },
        "id": "RjoedGCqmm9g",
        "outputId": "efb5e1df-7087-4a1d-cb7a-f4d9511c4ea9"
      },
      "outputs": [
        {
          "name": "stdout",
          "output_type": "stream",
          "text": [
            "Accuracy for Cluster Sampling: 0.9673202614379085\n"
          ]
        }
      ],
      "source": [
        "#Cluster Sampling\n",
        "from sklearn.model_selection import train_test_split\n",
        "from sklearn.svm import SVC\n",
        "from sklearn.metrics import accuracy_score\n",
        "\n",
        "X_cluster = sample_cluster.drop(columns=['Class'])\n",
        "y_cluster = sample_cluster['Class']\n",
        "\n",
        "X_train_cluster, X_test_cluster, y_train_cluster, y_test_cluster = train_test_split(\n",
        "    X_cluster, y_cluster, test_size=0.2, random_state=42\n",
        ")\n",
        "svm_classifier_cluster = SVC(kernel='linear', random_state=42)\n",
        "svm_classifier_cluster.fit(X_train_cluster, y_train_cluster)\n",
        "y_pred_cluster = svm_classifier_cluster.predict(X_test_cluster)\n",
        "\n",
        "accuracy_cluster = accuracy_score(y_test_cluster, y_pred_cluster)\n",
        "print(\"Accuracy for Cluster Sampling:\", accuracy_cluster)\n",
        "\n"
      ]
    },
    {
      "cell_type": "code",
      "execution_count": null,
      "metadata": {
        "colab": {
          "base_uri": "https://localhost:8080/"
        },
        "id": "vkI80EnxmoCH",
        "outputId": "9a22bc80-7f85-4295-f341-d8939762f360"
      },
      "outputs": [
        {
          "name": "stdout",
          "output_type": "stream",
          "text": [
            "Accuracy for Bootstrap Sampling: 0.9836601307189542\n"
          ]
        }
      ],
      "source": [
        "#bootstrap Sampling\n",
        "from sklearn.model_selection import train_test_split\n",
        "from sklearn.svm import SVC\n",
        "from sklearn.metrics import accuracy_score\n",
        "\n",
        "X_bootstrap = sample_bootstrap.drop(columns=['Class'])\n",
        "y_bootstrap = sample_bootstrap['Class']\n",
        "X_train_bootstrap, X_test_bootstrap, y_train_bootstrap, y_test_bootstrap = train_test_split(\n",
        "    X_bootstrap, y_bootstrap, test_size=0.2, random_state=42\n",
        ")\n",
        "\n",
        "svm_classifier_bootstrap = SVC(kernel='linear', random_state=42)\n",
        "svm_classifier_bootstrap.fit(X_train_bootstrap, y_train_bootstrap)\n",
        "y_pred_bootstrap = svm_classifier_bootstrap.predict(X_test_bootstrap)\n",
        "\n",
        "accuracy_bootstrap = accuracy_score(y_test_bootstrap, y_pred_bootstrap)\n",
        "print(\"Accuracy for Bootstrap Sampling:\", accuracy_bootstrap)\n"
      ]
    },
    {
      "cell_type": "code",
      "execution_count": null,
      "metadata": {
        "colab": {
          "base_uri": "https://localhost:8080/"
        },
        "id": "v4jBelZWmpQi",
        "outputId": "08050a6b-f1ab-4e31-97e8-b68138d5fcbf"
      },
      "outputs": [
        {
          "name": "stdout",
          "output_type": "stream",
          "text": [
            "Accuracy for Systematic Sampling: 0.9281045751633987\n"
          ]
        }
      ],
      "source": [
        "#systematic Sampling\n",
        "from sklearn.model_selection import train_test_split\n",
        "from sklearn.svm import SVC\n",
        "from sklearn.metrics import accuracy_score\n",
        "\n",
        "\n",
        "X_systematic = sample_systematic.drop(columns=['Class'])\n",
        "y_systematic = sample_systematic['Class']\n",
        "\n",
        "X_train_systematic, X_test_systematic, y_train_systematic, y_test_systematic = train_test_split(\n",
        "    X_systematic, y_systematic, test_size=0.2, random_state=42\n",
        ")\n",
        "\n",
        "svm_classifier_systematic = SVC(kernel='linear', random_state=42)\n",
        "svm_classifier_systematic.fit(X_train_systematic, y_train_systematic)\n",
        "y_pred_systematic = svm_classifier_systematic.predict(X_test_systematic)\n",
        "\n",
        "accuracy_systematic = accuracy_score(y_test_systematic, y_pred_systematic)\n",
        "print(\"Accuracy for Systematic Sampling:\", accuracy_systematic)\n"
      ]
    },
    {
      "cell_type": "markdown",
      "metadata": {
        "id": "kfFBJp3gpxRw"
      },
      "source": [
        "# **K-Nearest Neighbor ALGORITHM**"
      ]
    },
    {
      "cell_type": "code",
      "execution_count": null,
      "metadata": {
        "colab": {
          "base_uri": "https://localhost:8080/"
        },
        "id": "3w-a9yDFp1Ok",
        "outputId": "2b6aeb45-6563-4d8f-933f-3d32b32b2284"
      },
      "outputs": [
        {
          "name": "stdout",
          "output_type": "stream",
          "text": [
            "Accuracy for Simple Random Sampling: 0.974025974025974\n"
          ]
        }
      ],
      "source": [
        "#Simple Random Sampling\n",
        "from sklearn.model_selection import train_test_split\n",
        "from sklearn.neighbors import KNeighborsClassifier\n",
        "from sklearn.metrics import accuracy_score\n",
        "X = sample_simple_random.drop(columns=['Class'])\n",
        "y = sample_simple_random['Class']\n",
        "X_train, X_test, y_train, y_test = train_test_split(X, y, test_size=0.2, random_state=42)\n",
        "knn = KNeighborsClassifier()\n",
        "knn.fit(X_train, y_train)\n",
        "y_pred = knn.predict(X_test)\n",
        "\n",
        "accuracy = accuracy_score(y_test, y_pred)\n",
        "print(\"Accuracy for Simple Random Sampling:\", accuracy)\n"
      ]
    },
    {
      "cell_type": "code",
      "execution_count": null,
      "metadata": {
        "colab": {
          "base_uri": "https://localhost:8080/"
        },
        "id": "fm2rvsFvp5lw",
        "outputId": "2d3e418f-1d8e-4c24-83e4-67a4dea21ac4"
      },
      "outputs": [
        {
          "name": "stdout",
          "output_type": "stream",
          "text": [
            "Accuracy for Stratified Sampling: 0.9607843137254902\n"
          ]
        }
      ],
      "source": [
        "#Stratified Sampling\n",
        "from sklearn.model_selection import train_test_split\n",
        "from sklearn.neighbors import KNeighborsClassifier\n",
        "from sklearn.metrics import accuracy_score\n",
        "X = sample_stratified.drop(columns=['Class'])\n",
        "y = sample_stratified['Class']\n",
        "\n",
        "X_train, X_test, y_train, y_test = train_test_split(X, y, test_size=0.2, random_state=42)\n",
        "knn = KNeighborsClassifier()\n",
        "knn.fit(X_train, y_train)\n",
        "\n",
        "y_pred = knn.predict(X_test)\n",
        "\n",
        "accuracy = accuracy_score(y_test, y_pred)\n",
        "print(\"Accuracy for Stratified Sampling:\", accuracy)\n"
      ]
    },
    {
      "cell_type": "code",
      "execution_count": null,
      "metadata": {
        "colab": {
          "base_uri": "https://localhost:8080/"
        },
        "id": "BKGpYVZMp7Ic",
        "outputId": "ade8bf81-2eb5-4fe0-e007-f5170897f8c1"
      },
      "outputs": [
        {
          "name": "stdout",
          "output_type": "stream",
          "text": [
            "Accuracy for Cluster Sampling: 0.954248366013072\n"
          ]
        }
      ],
      "source": [
        "#Cluster Sampling\n",
        "from sklearn.model_selection import train_test_split\n",
        "from sklearn.neighbors import KNeighborsClassifier\n",
        "from sklearn.metrics import accuracy_score\n",
        "X = sample_cluster.drop(columns=['Class'])\n",
        "y = sample_cluster['Class']\n",
        "\n",
        "X_train, X_test, y_train, y_test = train_test_split(X, y, test_size=0.2, random_state=42)\n",
        "\n",
        "knn = KNeighborsClassifier()\n",
        "\n",
        "knn.fit(X_train, y_train)\n",
        "y_pred = knn.predict(X_test)\n",
        "\n",
        "accuracy = accuracy_score(y_test, y_pred)\n",
        "print(\"Accuracy for Cluster Sampling:\", accuracy)\n"
      ]
    },
    {
      "cell_type": "code",
      "execution_count": null,
      "metadata": {
        "colab": {
          "base_uri": "https://localhost:8080/"
        },
        "id": "6w9PFBDNp9kp",
        "outputId": "517604f0-b552-4ebf-bafa-345c75fe2a9f"
      },
      "outputs": [
        {
          "name": "stdout",
          "output_type": "stream",
          "text": [
            "Accuracy for Bootstrap Sampling: 0.9967320261437909\n"
          ]
        }
      ],
      "source": [
        "#Bootstrap Sampling\n",
        "from sklearn.model_selection import train_test_split\n",
        "from sklearn.neighbors import KNeighborsClassifier\n",
        "from sklearn.metrics import accuracy_score\n",
        "\n",
        "X = sample_bootstrap.drop(columns=['Class'])\n",
        "y = sample_bootstrap['Class']\n",
        "\n",
        "X_train, X_test, y_train, y_test = train_test_split(X, y, test_size=0.2, random_state=42)\n",
        "knn = KNeighborsClassifier()\n",
        "knn.fit(X_train, y_train)\n",
        "\n",
        "y_pred = knn.predict(X_test)\n",
        "\n",
        "accuracy = accuracy_score(y_test, y_pred)\n",
        "print(\"Accuracy for Bootstrap Sampling:\", accuracy)\n"
      ]
    },
    {
      "cell_type": "code",
      "execution_count": null,
      "metadata": {
        "colab": {
          "base_uri": "https://localhost:8080/"
        },
        "id": "Oq61_U-Tp-tI",
        "outputId": "340d0bd5-edaf-4ac1-ba23-0cbdbf42ea81"
      },
      "outputs": [
        {
          "name": "stdout",
          "output_type": "stream",
          "text": [
            "Accuracy for Systematic Sampling: 0.9869281045751634\n"
          ]
        }
      ],
      "source": [
        "#Systematic Sampling\n",
        "from sklearn.model_selection import train_test_split\n",
        "from sklearn.neighbors import KNeighborsClassifier\n",
        "from sklearn.metrics import accuracy_score\n",
        "\n",
        "X = sample_systematic.drop(columns=['Class'])\n",
        "y = sample_systematic['Class']\n",
        "\n",
        "X_train, X_test, y_train, y_test = train_test_split(X, y, test_size=0.2, random_state=42)\n",
        "knn = KNeighborsClassifier()\n",
        "knn.fit(X_train, y_train)\n",
        "y_pred = knn.predict(X_test)\n",
        "\n",
        "accuracy = accuracy_score(y_test, y_pred)\n",
        "print(\"Accuracy for Systematic Sampling:\", accuracy)\n"
      ]
    }
  ],
  "metadata": {
    "colab": {
      "provenance": []
    },
    "kernelspec": {
      "display_name": "Python 3",
      "name": "python3"
    },
    "language_info": {
      "name": "python"
    }
  },
  "nbformat": 4,
  "nbformat_minor": 0
}
